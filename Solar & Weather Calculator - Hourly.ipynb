{
 "cells": [
  {
   "cell_type": "markdown",
   "metadata": {},
   "source": [
    "### Project Description"
   ]
  },
  {
   "cell_type": "markdown",
   "metadata": {},
   "source": [
    "The solar calculator is [Apogee Instrument's Clear Sky Calculator](http://clearskycalculator.com/quantumsensor.htm)."
   ]
  },
  {
   "cell_type": "markdown",
   "metadata": {},
   "source": [
    "The day length is calculated from a Excel Workbook from NOAA. The original is located at [NOAA's Solar Calculations](https://www.esrl.noaa.gov/gmd/grad/solcalc/NOAA_Solar_Calculations_year.xls)."
   ]
  },
  {
   "cell_type": "markdown",
   "metadata": {},
   "source": [
    "### Libraries\n",
    "Import relevant libraries"
   ]
  },
  {
   "cell_type": "code",
   "execution_count": 1,
   "metadata": {
    "ExecuteTime": {
     "end_time": "2021-03-22T13:35:52.929059Z",
     "start_time": "2021-03-22T13:35:52.405312Z"
    }
   },
   "outputs": [],
   "source": [
    "from selenium import webdriver\n",
    "from selenium.webdriver.common.keys import Keys\n",
    "\n",
    "import math\n",
    "import numpy as np\n",
    "import pandas as pd\n",
    "\n",
    "import datetime as dt\n",
    "from datetime import datetime, timedelta, timezone\n",
    "from dateutil import tz\n",
    "\n",
    "import webbrowser"
   ]
  },
  {
   "cell_type": "markdown",
   "metadata": {},
   "source": [
    "### Location and General Settings\n",
    "Choose latitude and longitude location. Enter longitude as - to W and + to E."
   ]
  },
  {
   "cell_type": "markdown",
   "metadata": {},
   "source": [
    "If Latitude and Longitude are unknown can use [Latitude and Longitude Map](https://itouchmap.com/?r=latlong)."
   ]
  },
  {
   "cell_type": "markdown",
   "metadata": {},
   "source": [
    "| Location | Latitude | Longitude |\n",
    "| --- | --- | --- |\n",
    "| Salt Lake City | 40.7 | -111.9 |\n",
    "| Logan | 41.7 | -111.8 |"
   ]
  },
  {
   "cell_type": "code",
   "execution_count": 2,
   "metadata": {
    "ExecuteTime": {
     "end_time": "2021-03-22T13:35:53.236860Z",
     "start_time": "2021-03-22T13:35:53.232951Z"
    }
   },
   "outputs": [],
   "source": [
    "Latitude = 40.7\n",
    "Longitude = -111.9 # - to W for Sunrise/Sunset Calculator and + to W for Apogee Calulator (code adjusts for this)"
   ]
  },
  {
   "cell_type": "markdown",
   "metadata": {},
   "source": [
    "Local UTC offset (+ to East) and year for day durations."
   ]
  },
  {
   "cell_type": "markdown",
   "metadata": {},
   "source": [
    "If UTC offset is unkown use the [list of UTC time offsets](https://en.wikipedia.org/wiki/List_of_UTC_time_offsets)."
   ]
  },
  {
   "cell_type": "code",
   "execution_count": 3,
   "metadata": {
    "ExecuteTime": {
     "end_time": "2021-03-22T13:35:53.803603Z",
     "start_time": "2021-03-22T13:35:53.800671Z"
    }
   },
   "outputs": [],
   "source": [
    "utc = -7\n",
    "year = 2021\n",
    "local_time = '12:00:00'"
   ]
  },
  {
   "cell_type": "markdown",
   "metadata": {},
   "source": [
    "If you desire to see daylight savings time enter yes or no and the dates below. **Note that this feature doesn't work great yet.**"
   ]
  },
  {
   "cell_type": "code",
   "execution_count": 4,
   "metadata": {
    "ExecuteTime": {
     "end_time": "2021-03-22T13:35:54.197394Z",
     "start_time": "2021-03-22T13:35:54.193483Z"
    }
   },
   "outputs": [],
   "source": [
    "daylight_savings = 'No'\n",
    "start_day = '2020-01-02' # manually choose start\n",
    "end_day = '2020-11-01' # manually choose start"
   ]
  },
  {
   "cell_type": "markdown",
   "metadata": {},
   "source": [
    "Elevation (m) and longitude of time zone. For more info see [here](http://clearskycalculator.com/longitudeTZ.htm)."
   ]
  },
  {
   "cell_type": "markdown",
   "metadata": {},
   "source": [
    "| Location | Elevation (m) |\n",
    "| --- | --- |\n",
    "| Salt Lake City | 1288 |\n",
    "| Logan | 1382 |"
   ]
  },
  {
   "cell_type": "markdown",
   "metadata": {},
   "source": [
    "If Longitude_tz is unknown use this [map](http://clearskycalculator.com/longitudeTZ.htm)."
   ]
  },
  {
   "cell_type": "code",
   "execution_count": 5,
   "metadata": {
    "ExecuteTime": {
     "end_time": "2021-03-22T13:35:55.019166Z",
     "start_time": "2021-03-22T13:35:55.016235Z"
    }
   },
   "outputs": [],
   "source": [
    "Longitude_tz = 105\n",
    "Elevation = 1288"
   ]
  },
  {
   "cell_type": "markdown",
   "metadata": {},
   "source": [
    "Choose location name to be used in exports."
   ]
  },
  {
   "cell_type": "code",
   "execution_count": 6,
   "metadata": {
    "ExecuteTime": {
     "end_time": "2021-03-22T13:35:55.427612Z",
     "start_time": "2021-03-22T13:35:55.424684Z"
    }
   },
   "outputs": [],
   "source": [
    "location = 'SaltLake'"
   ]
  },
  {
   "cell_type": "markdown",
   "metadata": {},
   "source": [
    "Select if hourly or daily average climate values are being used."
   ]
  },
  {
   "cell_type": "code",
   "execution_count": 7,
   "metadata": {
    "ExecuteTime": {
     "end_time": "2021-03-22T13:35:55.820422Z",
     "start_time": "2021-03-22T13:35:55.816514Z"
    }
   },
   "outputs": [],
   "source": [
    "hourly_averages_filename = 'Weather Data/Hourly_Averages_SaltLake.csv'"
   ]
  },
  {
   "cell_type": "markdown",
   "metadata": {},
   "source": [
    "If looking for averages to download (both hourly and daily) use the [NOAA Portal](https://www.ncdc.noaa.gov/cdo-web/search)."
   ]
  },
  {
   "cell_type": "markdown",
   "metadata": {},
   "source": [
    "### Functions to Run\n",
    "Functions relevant to model"
   ]
  },
  {
   "cell_type": "code",
   "execution_count": 8,
   "metadata": {
    "ExecuteTime": {
     "end_time": "2021-03-22T13:35:56.406708Z",
     "start_time": "2021-03-22T13:35:56.401822Z"
    }
   },
   "outputs": [],
   "source": [
    "def time_to_decimal(time):\n",
    "    # Takes in a time format as a string such as 12:00:00\n",
    "    # Returns a decimal time\n",
    "    x = time.split(\":\")\n",
    "    h = int(x[0])/24\n",
    "    m = int(x[1])/(24*60)\n",
    "    s = int(x[2])/(24*60*60)\n",
    "    time = h + m + s\n",
    "    return time"
   ]
  },
  {
   "cell_type": "code",
   "execution_count": 9,
   "metadata": {
    "ExecuteTime": {
     "end_time": "2021-03-22T13:35:56.590410Z",
     "start_time": "2021-03-22T13:35:56.586502Z"
    }
   },
   "outputs": [],
   "source": [
    "def decimal_to_time(time):\n",
    "    # Takes in a decimal time format\n",
    "    # Returns a string time such as 12:00:00\n",
    "    time = time * 24\n",
    "    hours = int(time)\n",
    "    minutes = (time*60) % 60\n",
    "    seconds = (time*3600) % 60\n",
    "      \n",
    "    return \"%d:%02d:%02d\" % (hours, minutes, seconds)"
   ]
  },
  {
   "cell_type": "code",
   "execution_count": 10,
   "metadata": {
    "ExecuteTime": {
     "end_time": "2021-03-22T13:35:56.781932Z",
     "start_time": "2021-03-22T13:35:56.778022Z"
    }
   },
   "outputs": [],
   "source": [
    "def tz_offset(time, offset):\n",
    "    time = time.split(\":\")\n",
    "    hour = int(time[0]) + offset\n",
    "    return \"%d:%02d:%02d\" % (hour, int(time[1]), int(time[2]))"
   ]
  },
  {
   "cell_type": "markdown",
   "metadata": {},
   "source": [
    "### Solar Position Calculator\n",
    "Calculates sunrise/sunset and other solar position values based on Astromonomical Algortithms by Jean Meeus. Formulas were adapted from a National Oceanic and Atomospheric Adminstration [Excel sheet](https://www.esrl.noaa.gov/gmd/grad/solcalc/calcdetails.html). Further details can be found in the Github README or at the link."
   ]
  },
  {
   "cell_type": "code",
   "execution_count": 11,
   "metadata": {
    "ExecuteTime": {
     "end_time": "2021-03-22T13:35:57.994570Z",
     "start_time": "2021-03-22T13:35:57.161062Z"
    }
   },
   "outputs": [],
   "source": [
    "# Create dataframe\n",
    "sol = pd.DataFrame(columns=['Date'])\n",
    "\n",
    "# Create date range index\n",
    "start = str(year)+'-01-01'\n",
    "end = str(year)+'-12-31'\n",
    "start = datetime.strptime(start, '%Y-%m-%d')\n",
    "end = datetime.strptime(end, '%Y-%m-%d')\n",
    "step = timedelta(days=1)\n",
    "while start <= end:\n",
    "    sol.loc[len(sol.index)] = [start]\n",
    "    start += step\n",
    "\n",
    "# Add local time\n",
    "sol['Time'] = local_time\n",
    "\n",
    "# Julian Day\n",
    "base = '1900-01-01'\n",
    "base = datetime.strptime(base, '%Y-%m-%d')\n",
    "sol['Julian_Day'] = (sol['Date'] - base + dt.timedelta(\n",
    "    days=2)).astype('timedelta64[D]') + 2415018.5+time_to_decimal(local_time)-utc/24\n",
    "\n",
    "# Julian Century\n",
    "sol['Julian_Century'] = (\n",
    "    sol['Julian_Day']-2451545)/36525\n",
    "\n",
    "# Geom Mean Long Sun (deg)\n",
    "sol['Geom_Mean_Long_Sun(deg)'] = (280.46646+sol['Julian_Century']*(\n",
    "    36000.76983 + sol['Julian_Century']*0.0003032)) % 360\n",
    "\n",
    "# Geom Mean Anom Sun (deg)\n",
    "sol['Geom_Mean_Anom_Sun(deg)'] = 357.52911+sol['Julian_Century']*(\n",
    "    35999.05029 - 0.0001537*sol['Julian_Century'])\n",
    "\n",
    "# Eccent Earth Orbit\n",
    "sol['Eccent_Earth_Orbit'] = 0.016708634-sol['Julian_Century'] * \\\n",
    "    (0.000042037+0.0000001267*sol['Julian_Century'])\n",
    "\n",
    "# Sun Eq of Ctr\n",
    "sol['Sun_Eq_of_Ctr'] = np.sin(np.radians(sol['Geom_Mean_Anom_Sun(deg)'])\n",
    "                       )*(1.914602-sol['Julian_Century']*(0.004817+0.000014\n",
    "                        *sol['Julian_Century']))+np.sin(np.radians(2*sol['Geom_Mean_Anom_Sun(deg)']\n",
    "                        ))*(0.019993-0.000101*sol['Julian_Century'])+np.sin(np.radians(3*\n",
    "                        sol['Geom_Mean_Anom_Sun(deg)']))*0.000289\n",
    "\n",
    "# Sun True Long (deg)\n",
    "sol['Sun_True_Long(deg)'] = sol['Sun_Eq_of_Ctr'] + \\\n",
    "    sol['Geom_Mean_Long_Sun(deg)']\n",
    "\n",
    "# Sun True Anom (deg)\n",
    "sol['Sun_True_Anom(deg)'] = sol['Sun_Eq_of_Ctr'] + \\\n",
    "    sol['Geom_Mean_Anom_Sun(deg)']\n",
    "\n",
    "# Sun Rad Vector (AUs)\n",
    "sol['Sun_Rad_Vector(AUs)'] = (1.000001018*(1-sol['Eccent_Earth_Orbit']*sol['Eccent_Earth_Orbit'])\n",
    "                              )/(1+sol['Eccent_Earth_Orbit']*np.cos(np.radians(sol['Sun_True_Anom(deg)'])))\n",
    "\n",
    "# Sun App Long(deg)\n",
    "sol['Sun_App_Long(deg)'] = sol['Sun_True_Long(deg)']-0.00569 - \\\n",
    "    0.00478*np.sin(np.radians(125.04-1934.136*sol['Julian_Century']))\n",
    "\n",
    "# Mean Obliq Ecliptic (deg)\n",
    "sol['Mean_Obliq_Ecliptic(deg)'] = 23+(26+((21.448-sol['Julian_Century']*(\n",
    "    46.815+sol['Julian_Century']*(0.00059-sol['Julian_Century']*0.001813))))/60)/60\n",
    "\n",
    "# Obliq Corr(deg)\n",
    "sol['Obliq_Corr(deg)'] = sol['Mean_Obliq_Ecliptic(deg)']+0.00256 * \\\n",
    "    np.cos(np.radians(125.04-1934.136*sol['Julian_Century']))\n",
    "\n",
    "# Sun Rt Ascen(deg)\n",
    "sol['Sun_Rt_Ascen(deg)'] = np.degrees(np.arctan2(np.cos(np.radians(sol['Obliq_Corr(deg)']))\n",
    "                        * np.sin(np.radians(sol['Sun_App_Long(deg)'])), np.cos(np.radians(sol['Sun_App_Long(deg)']))))\n",
    "\n",
    "# Sun Declin(deg)\n",
    "sol['Sun_Declin(deg)'] = np.degrees(np.arcsin(np.sin(np.radians(\n",
    "    sol['Obliq_Corr(deg)']))*np.sin(np.radians(sol['Sun_App_Long(deg)']))))\n",
    "\n",
    "# var y\n",
    "sol['var_y'] = np.tan(np.radians(sol['Obliq_Corr(deg)']/2)) * \\\n",
    "    np.tan(np.radians(sol['Obliq_Corr(deg)']/2))\n",
    "\n",
    "# Eq of Time(minutes)\n",
    "sol['Eq_of_Time(min)'] = 4*np.degrees(sol['var_y']*np.sin(2*np.radians(sol['Geom_Mean_Long_Sun(deg)']))\n",
    "                            -2*sol['Eccent_Earth_Orbit']*np.sin(np.radians(sol['Geom_Mean_Anom_Sun(deg)']))\n",
    "                            +4*sol['Eccent_Earth_Orbit']*sol['var_y']*np.sin(np.radians(\n",
    "                            sol['Geom_Mean_Anom_Sun(deg)']))*np.cos(2*np.radians(sol['Geom_Mean_Long_Sun(deg)']))\n",
    "                            -0.5*sol['var_y']*sol['var_y']*np.sin(4*np.radians(sol['Geom_Mean_Long_Sun(deg)']))\n",
    "                            -1.25*sol['Eccent_Earth_Orbit']*sol['Eccent_Earth_Orbit']*np.sin(2*np.radians(\n",
    "                            sol['Geom_Mean_Anom_Sun(deg)'])))\n",
    "\n",
    "# HA Sunrise(deg)\n",
    "sol['HA_Sunrise(deg)'] = np.degrees(np.arccos(np.cos(math.radians(90.833))/(np.cos(math.radians(Latitude))\n",
    "                        *np.cos(np.radians(sol['Sun_Declin(deg)'])))-np.tan(math.radians(Latitude))\n",
    "                        *np.tan(np.radians(sol['Sun_Declin(deg)']))))\n",
    "\n",
    "# Solar Noon(LST)\n",
    "sol['Solar_Noon(LST)'] = (720-4*Longitude-sol['Eq_of_Time(min)']+utc*60)/1440\n",
    "sol['Solar_Noon(LST)'] = [decimal_to_time(x) for x in sol['Solar_Noon(LST)']]\n",
    "\n",
    "# Sunrise Time(LST)\n",
    "sol['Sunrise_Time(LST)'] = [time_to_decimal(x) for x in sol['Solar_Noon(LST)']]\n",
    "sol['Sunrise_Time(LST)'] = (sol['Sunrise_Time(LST)']*1440-sol['HA_Sunrise(deg)']*4)/1440\n",
    "sol['Sunrise_Time(LST)'] = [decimal_to_time(x) for x in sol['Sunrise_Time(LST)']]\n",
    "\n",
    "# Sunset Time(LST)\n",
    "sol['Sunset_Time(LST)'] = [time_to_decimal(x) for x in sol['Solar_Noon(LST)']]\n",
    "sol['Sunset_Time(LST)'] = (sol['Sunset_Time(LST)']*1440+sol['HA_Sunrise(deg)']*4)/1440\n",
    "sol['Sunset_Time(LST)'] = [decimal_to_time(x) for x in sol['Sunset_Time(LST)']]\n",
    "\n",
    "# Sunlight Duration(min)\n",
    "sol['Sunlight_Duration(min)'] = sol['HA_Sunrise(deg)']*8\n",
    "\n",
    "# Dark Duration(min)\n",
    "sol['Dark_Duration(min)'] = 24*60 - sol['Sunlight_Duration(min)']\n",
    "\n",
    "# True Solar Time(min)\n",
    "sol['True_Solar_Time(min)'] = (time_to_decimal(local_time)*1440+sol['Eq_of_Time(min)']+4*Longitude-60*utc) % 1440\n",
    "\n",
    "# Hour Angle(deg)\n",
    "# if sol['True_Solar_Time(min)']/4<0 then ['True_Solar_Time(min)']/4-180\n",
    "sol['Hour_Angle(deg)'] = sol['True_Solar_Time(min)'].apply(lambda x: (x/4+180) if (x/4)<0 else (x/4-180))\n",
    "\n",
    "# Solar Zenith Angle(deg)\n",
    "sol['Solar_Zenith_Angle(deg)'] = np.degrees(np.arccos(math.sin(math.radians(Latitude))*np.sin(np.radians(sol['Sun_Declin(deg)']))\n",
    "                        +math.cos(math.radians(Latitude))*np.cos(np.radians(sol['Sun_Declin(deg)']))*np.cos(np.radians(\n",
    "                            sol['Hour_Angle(deg)']))))\n",
    "\n",
    "# Solar Elevation Angle(deg)\n",
    "sol['Solar_Elevation_Angle(deg)'] = 90 - sol['Solar_Zenith_Angle(deg)']\n",
    "\n",
    "# Approx Atmospheric Refraction                                                                                        (-20.772/np.tan(np.radians(z)))))))))/3600\n",
    "sol['Approx_Atomospheric_Refraction'] = np.nan\n",
    "sol.loc[sol['Solar_Elevation_Angle(deg)'] > 85, 'Approx_Atomospheric_Refraction'] = 0\n",
    "sol.loc[(sol['Solar_Elevation_Angle(deg)'] <= 85) & (sol['Solar_Elevation_Angle(deg)'] > 5), 'Approx_Atomospheric_Refraction'] = 58.1/np.tan(np.radians(sol['Solar_Elevation_Angle(deg)']))-0.07/pow(np.tan(np.radians(sol['Solar_Elevation_Angle(deg)'])),3) + 0.000086/pow(np.tan(np.radians(sol['Solar_Elevation_Angle(deg)'])),5)\n",
    "sol.loc[(sol['Solar_Elevation_Angle(deg)'] <= 5) & (sol['Solar_Elevation_Angle(deg)'] > -0.575), 'Approx_Atomospheric_Refraction'] = 1735+sol['Solar_Elevation_Angle(deg)']*(-518.2+sol['Solar_Elevation_Angle(deg)']*(103.4+sol['Solar_Elevation_Angle(deg)']*(-12.79+sol['Solar_Elevation_Angle(deg)']*0.711)))\n",
    "sol.loc[sol['Solar_Elevation_Angle(deg)'] <= -0.575, 'Approx_Atomospheric_Refraction'] = -20.772/np.tan(np.radians(sol['Solar_Elevation_Angle(deg)']))\n",
    "sol['Approx_Atomospheric_Refraction'] = sol['Approx_Atomospheric_Refraction']/3600\n",
    "\n",
    "# Solar Elevation Corrected (deg)\n",
    "sol['Solar_Elevation_corr(deg)'] = sol['Solar_Elevation_Angle(deg)'] + sol['Approx_Atomospheric_Refraction']\n",
    "\n",
    "# Solar Azimuth Angle (deg cw from N)\n",
    "sol['Solar_Azimuth_Angle(deg_cw_from_N)'] = np.nan\n",
    "sol.loc[sol['Hour_Angle(deg)'] > 0, 'Solar_Azimuth_Angle(deg_cw_from_N)'] = (np.degrees(np.arccos(((math.sin(math.radians(Latitude))*np.cos(np.radians(sol['Solar_Zenith_Angle(deg)'])))-np.sin(np.radians(sol['Sun_Declin(deg)'])))/(math.cos(math.radians(Latitude))*np.sin(np.radians(sol['Solar_Zenith_Angle(deg)'])))))+180) % 360\n",
    "sol.loc[sol['Hour_Angle(deg)'] <= 0, 'Solar_Azimuth_Angle(deg_cw_from_N)'] = (540-np.degrees(np.arccos(((math.sin(math.radians(Latitude))*np.cos(np.radians(sol['Solar_Zenith_Angle(deg)'])))-np.sin(np.radians(sol['Sun_Declin(deg)'])))/(math.cos(math.radians(Latitude))*np.sin(np.radians(sol['Solar_Zenith_Angle(deg)'])))))) % 360\n",
    "\n",
    "# Account for daylight savings\n",
    "if daylight_savings.lower() == 'yes':\n",
    "    start = datetime.strptime(start_day, '%Y-%m-%d')\n",
    "    end = datetime.strptime(end_day, '%Y-%m-%d')\n",
    "    sol.loc[(sol['Date'] <= end) & (sol['Date'] >= start), 'Solar_Noon(LST)'] = [tz_offset(x, 1) for x in sol.loc[(sol['Date'] <= end) & (sol['Date'] >= start), 'Solar_Noon(LST)']]\n",
    "    sol.loc[(sol['Date'] <= end) & (sol['Date'] >= start), 'Sunrise_Time(LST)'] = [tz_offset(x, 1) for x in sol.loc[(sol['Date'] <= end) & (sol['Date'] >= start), 'Sunrise_Time(LST)']]\n",
    "    sol.loc[(sol['Date'] <= end) & (sol['Date'] >= start), 'Sunset_Time(LST)'] = [tz_offset(x, 1) for x in sol.loc[(sol['Date'] <= end) & (sol['Date'] >= start), 'Sunset_Time(LST)']]\n",
    "else:\n",
    "    pass\n",
    "\n",
    "sol.set_index('Date', inplace=True)\n",
    "\n",
    "# Save to csv\n",
    "if daylight_savings.lower() == 'yes':\n",
    "    daylight_file = 'Daylight'\n",
    "else:\n",
    "    daylight_file = 'NoDaylight'\n",
    "export_location = 'Exports/'\n",
    "filename_solar = export_location + 'Solar_' + location + '.csv'\n",
    "sol.to_csv(filename_solar, index=True)"
   ]
  },
  {
   "cell_type": "markdown",
   "metadata": {},
   "source": [
    "### Hourly Averages\n",
    "Currently the script uses U.S. Hourly Climate Normals based on 30-year averages from 1981 to 2010 to calculate average weather values in addition to Photosynthetic Photon Flux."
   ]
  },
  {
   "cell_type": "markdown",
   "metadata": {},
   "source": [
    "Read in average weather data. The current example uses data for Salt Lake City or Logan."
   ]
  },
  {
   "cell_type": "code",
   "execution_count": 12,
   "metadata": {
    "ExecuteTime": {
     "end_time": "2021-03-22T13:35:58.115728Z",
     "start_time": "2021-03-22T13:35:57.995554Z"
    }
   },
   "outputs": [],
   "source": [
    "df_ave = pd.read_csv(hourly_averages_filename)\n",
    "df_ave = df_ave[df_ave['DATE'].str.contains('02-29T')==False]\n",
    "df_ave['DATE']=pd.to_datetime(df_ave['DATE'], format='%m-%dT%H:%M:%S')\n",
    "df_ave['DATE']=df_ave['DATE'].apply(lambda x: x.replace(year = year))\n",
    "df_ave.set_index('DATE', inplace=True)"
   ]
  },
  {
   "cell_type": "markdown",
   "metadata": {},
   "source": [
    "Convert to datetime formats for indexing."
   ]
  },
  {
   "cell_type": "markdown",
   "metadata": {
    "ExecuteTime": {
     "end_time": "2021-01-26T18:49:13.521433Z",
     "start_time": "2021-01-26T18:49:13.493424Z"
    }
   },
   "source": [
    "### Web Scraper\n",
    "Accesses the [Apogee Instrument's Clear Sky Calculator](http://clearskycalculator.com/quantumsensor.htm) to calculate Phososynthetic Photon Flux density."
   ]
  },
  {
   "cell_type": "markdown",
   "metadata": {},
   "source": [
    "Functions for webscraper"
   ]
  },
  {
   "cell_type": "code",
   "execution_count": 13,
   "metadata": {
    "ExecuteTime": {
     "end_time": "2021-03-22T13:35:58.966820Z",
     "start_time": "2021-03-22T13:35:58.959978Z"
    }
   },
   "outputs": [],
   "source": [
    "def Hourly_Normals(date_time, hourly_averages, weather_model):\n",
    "    # Must be called after creating webdriver object and import hourly normals\n",
    "    \n",
    "    #Get 30 Year Average Values\n",
    "    Temp_90th = hourly_averages.loc[date_time]['HLY-TEMP-90PCTL']\n",
    "    Temp_mean = hourly_averages.loc[date_time]['HLY-TEMP-NORMAL']\n",
    "    Temp_10th = hourly_averages.loc[date_time]['HLY-TEMP-10PCTL']\n",
    "    Dew_90th = hourly_averages.loc[date_time]['HLY-DEWP-90PCTL']\n",
    "    Dew_Mean = hourly_averages.loc[date_time]['HLY-DEWP-NORMAL']\n",
    "    Dew_10th = hourly_averages.loc[date_time]['HLY-DEWP-10PCTL']\n",
    "    Clouds_Broken = hourly_averages.loc[date_time]['HLY-CLOD-PCTBKN']\n",
    "    Clouds_Clear = hourly_averages.loc[date_time]['HLY-CLOD-PCTCLR']\n",
    "    Clouds_Scattered = hourly_averages.loc[date_time]['HLY-CLOD-PCTSCT']\n",
    "    Clouds_Overcast = hourly_averages.loc[date_time]['HLY-CLOD-PCTOVC']\n",
    "    Clouds_Few = hourly_averages.loc[date_time]['HLY-CLOD-PCTFEW']\n",
    "\n",
    "    #Calculate relative humidity\n",
    "    Rel_Hum = 100*(math.exp((17.625*Dew_Mean)/(243.04+Dew_Mean))/math.exp((17.625*Temp_mean)/(243.04+Temp_mean)))\n",
    "\n",
    "    #Calculate Estimated PPF\n",
    "    Time_Input.send_keys(Keys.CONTROL,\"a\")\n",
    "    Time_Input.send_keys(str(hour))\n",
    "    Air_Temperature_Input.send_keys(Keys.CONTROL,\"a\")\n",
    "    Air_Temperature_Input.send_keys(str(Temp_mean))\n",
    "    Relative_Humidity.send_keys(Keys.CONTROL,\"a\")\n",
    "    Relative_Humidity.send_keys(str(Rel_Hum))\n",
    "    Recalculate.click()\n",
    "    Est_PPF = Estimated_PPF.get_attribute('value')\n",
    "    \n",
    "    #Add row to weather model dataframe\n",
    "    weather_model.loc[len(weather_model.index)] = [date_time,Light,Dark,Est_PPF,Temp_90th,Temp_mean,Temp_10th,Dew_90th,Dew_Mean,Dew_10th,Clouds_Broken,Clouds_Clear,Clouds_Scattered,Clouds_Overcast,Clouds_Few,Rel_Hum]"
   ]
  },
  {
   "cell_type": "code",
   "execution_count": 14,
   "metadata": {
    "ExecuteTime": {
     "end_time": "2021-03-22T13:35:59.775892Z",
     "start_time": "2021-03-22T13:35:59.769053Z"
    }
   },
   "outputs": [],
   "source": [
    "def Hourly_Normals_Offset(date_time, hourly_averages, weather_model, offset):\n",
    "    # Used to fill holes in data by creating daily of hourly offsets and assuming weather normals will be similar\n",
    "    \n",
    "    # Must be called after creating webdriver object and import hourly normals\n",
    "    date_time_off = date_time + offset \n",
    "    \n",
    "    #Get 30 Year Average Values\n",
    "    Temp_90th = hourly_averages.loc[date_time_off]['HLY-TEMP-90PCTL']\n",
    "    Temp_mean = hourly_averages.loc[date_time_off]['HLY-TEMP-NORMAL']\n",
    "    Temp_10th = hourly_averages.loc[date_time_off]['HLY-TEMP-10PCTL']\n",
    "    Dew_90th = hourly_averages.loc[date_time_off]['HLY-DEWP-90PCTL']\n",
    "    Dew_Mean = hourly_averages.loc[date_time_off]['HLY-DEWP-NORMAL']\n",
    "    Dew_10th = hourly_averages.loc[date_time_off]['HLY-DEWP-10PCTL']\n",
    "    Clouds_Broken = hourly_averages.loc[date_time_off]['HLY-CLOD-PCTBKN']\n",
    "    Clouds_Clear = hourly_averages.loc[date_time_off]['HLY-CLOD-PCTCLR']\n",
    "    Clouds_Scattered = hourly_averages.loc[date_time_off]['HLY-CLOD-PCTSCT']\n",
    "    Clouds_Overcast = hourly_averages.loc[date_time_off]['HLY-CLOD-PCTOVC']\n",
    "    Clouds_Few = hourly_averages.loc[date_time_off]['HLY-CLOD-PCTFEW']\n",
    "\n",
    "    #Calculate relative humidity\n",
    "    Rel_Hum = 100*(math.exp((17.625*Dew_Mean)/(243.04+Dew_Mean))/math.exp((17.625*Temp_mean)/(243.04+Temp_mean)))\n",
    "\n",
    "    #Calculate Estimated PPF\n",
    "    Time_Input.send_keys(Keys.CONTROL,\"a\")\n",
    "    Time_Input.send_keys(str(hour))\n",
    "    Air_Temperature_Input.send_keys(Keys.CONTROL,\"a\")\n",
    "    Air_Temperature_Input.send_keys(str(Temp_mean))\n",
    "    Relative_Humidity.send_keys(Keys.CONTROL,\"a\")\n",
    "    Relative_Humidity.send_keys(str(Rel_Hum))\n",
    "    Recalculate.click()\n",
    "    Est_PPF = Estimated_PPF.get_attribute('value')\n",
    "    \n",
    "    #Add row to weather model dataframe\n",
    "    weather_model.loc[len(weather_model.index)] = [date_time,Light,Dark,Est_PPF,Temp_90th,Temp_mean,Temp_10th,Dew_90th,Dew_Mean,Dew_10th,Clouds_Broken,Clouds_Clear,Clouds_Scattered,Clouds_Overcast,Clouds_Few,Rel_Hum]"
   ]
  },
  {
   "cell_type": "markdown",
   "metadata": {
    "ExecuteTime": {
     "end_time": "2021-01-26T18:50:54.813299Z",
     "start_time": "2021-01-26T18:50:54.808309Z"
    }
   },
   "source": [
    "Create an instance of the web driver and open site."
   ]
  },
  {
   "cell_type": "code",
   "execution_count": 15,
   "metadata": {
    "ExecuteTime": {
     "end_time": "2021-03-22T13:36:01.482959Z",
     "start_time": "2021-03-22T13:36:00.376836Z"
    }
   },
   "outputs": [],
   "source": [
    "wd = webdriver.Chrome()\n",
    "wd.get('http://clearskycalculator.com/quantumsensor.htm')"
   ]
  },
  {
   "cell_type": "markdown",
   "metadata": {},
   "source": [
    "Setup locations to fill on webpage through Selenium interface."
   ]
  },
  {
   "cell_type": "code",
   "execution_count": 16,
   "metadata": {
    "ExecuteTime": {
     "end_time": "2021-03-22T13:36:01.582629Z",
     "start_time": "2021-03-22T13:36:01.484915Z"
    }
   },
   "outputs": [],
   "source": [
    "Latitude_Input = wd.find_element_by_xpath('//*[@id=\"p1G6\"]')\n",
    "Longitude_Input = wd.find_element_by_xpath('//*[@id=\"p1G8\"]')\n",
    "Longitude_tz_Input = wd.find_element_by_xpath('//*[@id=\"p1G10\"]')\n",
    "Elevation_Input = wd.find_element_by_xpath('//*[@id=\"p1G12\"]')\n",
    "Day_Input = wd.find_element_by_xpath('//*[@id=\"p1G14\"]')\n",
    "Time_Input = wd.find_element_by_xpath('//*[@id=\"p1G16\"]')\n",
    "Daylight_Savings_Input = wd.find_element_by_xpath('//*[@id=\"p1G18\"]')\n",
    "Air_Temperature_Input = wd.find_element_by_xpath('//*[@id=\"p1G20\"]')\n",
    "Relative_Humidity = wd.find_element_by_xpath('//*[@id=\"p1G22\"]')\n",
    "Recalculate = wd.find_element_by_xpath('//*[@id=\"panel1\"]/table/tbody/tr[23]/td[3]/input')\n",
    "Estimated_PPF = wd.find_element_by_xpath('//*[@id=\"p1L6\"]')"
   ]
  },
  {
   "cell_type": "markdown",
   "metadata": {},
   "source": [
    "Loops through all days and hours in a year to estimate PPF."
   ]
  },
  {
   "cell_type": "code",
   "execution_count": 17,
   "metadata": {
    "ExecuteTime": {
     "end_time": "2021-03-22T13:58:30.872084Z",
     "start_time": "2021-03-22T13:36:01.583605Z"
    }
   },
   "outputs": [],
   "source": [
    "#Initial inputs that set location for Apogee Scientific model\n",
    "Latitude_Input.send_keys(Keys.CONTROL,\"a\")\n",
    "Latitude_Input.send_keys(str(Latitude))\n",
    "\n",
    "Longitude_Input.send_keys(Keys.CONTROL,\"a\")\n",
    "Longitude_Input.send_keys(str(Longitude * -1))\n",
    "\n",
    "Longitude_tz_Input.send_keys(Keys.CONTROL,\"a\")\n",
    "Longitude_tz_Input.send_keys(str(Longitude_tz))\n",
    "\n",
    "Elevation_Input.send_keys(Keys.CONTROL,\"a\")\n",
    "Elevation_Input.send_keys(str(Elevation))\n",
    "\n",
    "Daylight_Savings_Input.send_keys(Keys.CONTROL,\"a\")\n",
    "\n",
    "if daylight_savings.lower() == 'yes':\n",
    "    Daylight_Savings_Input.send_keys('1')\n",
    "else:\n",
    "    Daylight_Savings_Input.send_keys('0')\n",
    "    \n",
    "#Create an array with headers to store values\n",
    "weather_model = pd.DataFrame(columns = ['Date','Light(minutes)','Dark(minutes)',\n",
    "                                        'Estimated_PPF(umol/m^2*s^1)','Temperature(90th)',\n",
    "                                        'Temperature(mean)','Temperature(10th)','DewPoint(90th)',\n",
    "                                        'DewPoint(mean)','DewPoint(10th)','CloudsBroken',\n",
    "                                        'CloudsClear','CloudsScattered','CloudsOvercast',\n",
    "                                        'CloudsFew','RelativeHumidity'])\n",
    "\n",
    "for day in range(1,366):\n",
    "    #Create datetime variable from day number\n",
    "    date = dt.datetime(year, 1, 1) + dt.timedelta(day - 1)\n",
    "\n",
    "    #Find light and dark durations\n",
    "    Light = sol.loc[date]['Sunlight_Duration(min)']\n",
    "    Dark = sol.loc[date]['Dark_Duration(min)']\n",
    "\n",
    "    #Input webpage values\n",
    "    Day_Input.send_keys(Keys.CONTROL,\"a\")\n",
    "    Day_Input.send_keys(day)\n",
    "\n",
    "    for hour in range(0,24):\n",
    "        #Convert hours to datetime format and add to date from first loop\n",
    "        hour = dt.timedelta(hours = hour)\n",
    "        date_time = date + hour\n",
    "\n",
    "        try:\n",
    "            # Calculates using existing values\n",
    "            Hourly_Normals(date_time, df_ave, weather_model)\n",
    "        except:\n",
    "            # Calulates using previous normals for gaps in data\n",
    "            # Previous day at same hour\n",
    "            try:\n",
    "                offset = timedelta(days = -1)\n",
    "                Hourly_Normals_Offset(date_time, df_ave, weather_model, offset)\n",
    "            except:\n",
    "                # Following day at same hour\n",
    "                try:\n",
    "                    offset = timedelta(days = 1)\n",
    "                    Hourly_Normals_Offset(date_time, df_ave, weather_model, offset)\n",
    "                except:\n",
    "                    # One hour before\n",
    "                    try:\n",
    "                        offset = timedelta(hours = -1)\n",
    "                        Hourly_Normals_Offset(date_time, df_ave, weather_model, offset)\n",
    "                    # One hour after\n",
    "                    except:\n",
    "                        offset = timedelta(hours = 1)\n",
    "                        Hourly_Normals_Offset(date_time, df_ave, weather_model, offset)\n",
    "\n",
    "# Format index of weather model\n",
    "weather_model['Date']=pd.to_datetime(weather_model['Date'], format='%Y-%m-%d %H:%M:%S')\n",
    "weather_model.set_index('Date', inplace=True)\n",
    "\n",
    "# Fill NaN values with 0\n",
    "weather_model = weather_model.replace('NaN',0)\n",
    "weather_model['Estimated_PPF(umol/m^2*s^1)'] = weather_model['Estimated_PPF(umol/m^2*s^1)'].astype(float)\n",
    "\n",
    "export_location = 'Exports/'\n",
    "filename = export_location + 'PPF & Weather_' + location + '.csv'\n",
    "weather_model.to_csv(filename, index=True)"
   ]
  },
  {
   "cell_type": "markdown",
   "metadata": {},
   "source": [
    "### Daily Summaries for Key Values\n",
    "Creates daily summaries for key values to aid in laboratory models."
   ]
  },
  {
   "cell_type": "markdown",
   "metadata": {},
   "source": [
    "Used to visualize daily summaries of light."
   ]
  },
  {
   "cell_type": "code",
   "execution_count": 30,
   "metadata": {
    "ExecuteTime": {
     "end_time": "2021-03-22T15:36:25.480778Z",
     "start_time": "2021-03-22T15:36:25.223790Z"
    }
   },
   "outputs": [],
   "source": [
    "# Create a copy of the dataframe\n",
    "weather_model_PPF_ave = weather_model.reset_index()\n",
    "\n",
    "# Drop uneeded columns\n",
    "weather_model_PPF_ave = weather_model_PPF_ave.drop(['Temperature(90th)',\n",
    "                                        'Temperature(mean)','Temperature(10th)','DewPoint(90th)',\n",
    "                                        'DewPoint(mean)','DewPoint(10th)','CloudsBroken',\n",
    "                                        'CloudsClear','CloudsScattered','CloudsOvercast',\n",
    "                                        'CloudsFew','RelativeHumidity','Light(minutes)','Dark(minutes)'], axis=1)\n",
    "\n",
    "# Drop rows with a value of zero for PPF\n",
    "indexNames = weather_model_PPF_ave[weather_model_PPF_ave['Estimated_PPF(umol/m^2*s^1)'] <= 0 ].index\n",
    "weather_model_PPF_ave = weather_model_PPF_ave.drop(indexNames)\n",
    "\n",
    "# Get the average over the course of a day\n",
    "weather_model_PPF_ave = weather_model_PPF_ave.groupby(pd.Grouper(key='Date', freq='D')).mean()\n",
    "\n",
    "# Get the average over the course of a day\n",
    "weather_model_PPF_month_ave = weather_model_PPF_ave.reset_index()\n",
    "weather_model_PPF_month_ave = weather_model_PPF_month_ave.groupby(pd.Grouper(key='Date', freq='M')).mean()\n",
    "weather_model_PPF_month_ave = weather_model_PPF_month_ave.reset_index()\n",
    "weather_model_PPF_month_ave['Date'] = weather_model_PPF_month_ave.apply(lambda x: x['Date'].replace(day=1), axis=1)\n",
    "weather_model_PPF_month_ave.set_index('Date',inplace=True)\n",
    "\n",
    "# Get the max PPF for each day and month\n",
    "weather_model_PPF_max = weather_model.reset_index()\n",
    "weather_model_PPF_max = weather_model_PPF_max.drop(['Temperature(90th)',\n",
    "                                        'Temperature(mean)','Temperature(10th)','DewPoint(90th)',\n",
    "                                        'DewPoint(mean)','DewPoint(10th)','CloudsBroken',\n",
    "                                        'CloudsClear','CloudsScattered','CloudsOvercast',\n",
    "                                        'CloudsFew','RelativeHumidity', 'Light(minutes)','Dark(minutes)'], axis=1)\n",
    "weather_model_PPF_max = weather_model_PPF_max.groupby(pd.Grouper(key='Date', freq='D')).max()\n",
    "\n",
    "weather_model_PPF_month_max = weather_model_PPF_max.reset_index()\n",
    "weather_model_PPF_month_max = weather_model_PPF_month_max.groupby(pd.Grouper(key='Date', freq='M')).mean()\n",
    "weather_model_PPF_month_max = weather_model_PPF_month_max.reset_index()\n",
    "weather_model_PPF_month_max['Date'] = weather_model_PPF_month_max.apply(lambda x: x['Date'].replace(day=1), axis=1)\n",
    "weather_model_PPF_month_max.set_index('Date',inplace=True)\n",
    "\n",
    "# Export dataframes\n",
    "export_location = 'Exports/'\n",
    "\n",
    "filename_daily = export_location + 'PPF_' + location + '_' + 'DailyAve' + '.csv'\n",
    "filename_monthly = export_location + 'PPF_' + location + '_' + 'MonthlyAve' + '.csv'\n",
    "weather_model_PPF_ave.to_csv(filename_daily, index=True)\n",
    "weather_model_PPF_month_ave.to_csv(filename_monthly, index=True)\n",
    "\n",
    "filename_daily_max = export_location + 'PPF_' + location + '_' + 'DailyMax' + '.csv'\n",
    "filename_monthly_max = export_location + 'PPF_' + location + '_' + 'MonthlyMax' + '.csv'\n",
    "weather_model_PPF_max.to_csv(filename_daily_max, index=True)\n",
    "weather_model_PPF_month_max.to_csv(filename_monthly_max, index=True)"
   ]
  },
  {
   "cell_type": "code",
   "execution_count": 28,
   "metadata": {
    "ExecuteTime": {
     "end_time": "2021-03-22T15:35:43.675370Z",
     "start_time": "2021-03-22T15:35:43.662660Z"
    }
   },
   "outputs": [
    {
     "data": {
      "text/html": [
       "<div>\n",
       "<style scoped>\n",
       "    .dataframe tbody tr th:only-of-type {\n",
       "        vertical-align: middle;\n",
       "    }\n",
       "\n",
       "    .dataframe tbody tr th {\n",
       "        vertical-align: top;\n",
       "    }\n",
       "\n",
       "    .dataframe thead th {\n",
       "        text-align: right;\n",
       "    }\n",
       "</style>\n",
       "<table border=\"1\" class=\"dataframe\">\n",
       "  <thead>\n",
       "    <tr style=\"text-align: right;\">\n",
       "      <th></th>\n",
       "      <th>Estimated_PPF(umol/m^2*s^1)</th>\n",
       "    </tr>\n",
       "    <tr>\n",
       "      <th>Date</th>\n",
       "      <th></th>\n",
       "    </tr>\n",
       "  </thead>\n",
       "  <tbody>\n",
       "    <tr>\n",
       "      <th>2021-12-31</th>\n",
       "      <td>2049.0</td>\n",
       "    </tr>\n",
       "  </tbody>\n",
       "</table>\n",
       "</div>"
      ],
      "text/plain": [
       "            Estimated_PPF(umol/m^2*s^1)\n",
       "Date                                   \n",
       "2021-12-31                       2049.0"
      ]
     },
     "execution_count": 28,
     "metadata": {},
     "output_type": "execute_result"
    }
   ],
   "source": [
    "df = weather_model.reset_index()\n",
    "df = df.drop(['Temperature(90th)',\n",
    "                                        'Temperature(mean)','Temperature(10th)','DewPoint(90th)',\n",
    "                                        'DewPoint(mean)','DewPoint(10th)','CloudsBroken',\n",
    "                                        'CloudsClear','CloudsScattered','CloudsOvercast',\n",
    "                                        'CloudsFew','RelativeHumidity','Light(minutes)','Dark(minutes)'], axis=1)\n",
    "df = df.groupby(pd.Grouper(key='Date', freq='Y')).max()\n",
    "\n",
    "df"
   ]
  },
  {
   "cell_type": "code",
   "execution_count": 22,
   "metadata": {
    "ExecuteTime": {
     "end_time": "2021-03-22T15:32:24.105172Z",
     "start_time": "2021-03-22T15:32:24.088561Z"
    }
   },
   "outputs": [
    {
     "data": {
      "text/html": [
       "<div>\n",
       "<style scoped>\n",
       "    .dataframe tbody tr th:only-of-type {\n",
       "        vertical-align: middle;\n",
       "    }\n",
       "\n",
       "    .dataframe tbody tr th {\n",
       "        vertical-align: top;\n",
       "    }\n",
       "\n",
       "    .dataframe thead th {\n",
       "        text-align: right;\n",
       "    }\n",
       "</style>\n",
       "<table border=\"1\" class=\"dataframe\">\n",
       "  <thead>\n",
       "    <tr style=\"text-align: right;\">\n",
       "      <th></th>\n",
       "      <th>Light(minutes)</th>\n",
       "      <th>Dark(minutes)</th>\n",
       "      <th>Estimated_PPF(umol/m^2*s^1)</th>\n",
       "      <th>Temperature(90th)</th>\n",
       "      <th>Temperature(mean)</th>\n",
       "      <th>Temperature(10th)</th>\n",
       "      <th>DewPoint(90th)</th>\n",
       "      <th>DewPoint(mean)</th>\n",
       "      <th>DewPoint(10th)</th>\n",
       "      <th>CloudsBroken</th>\n",
       "      <th>CloudsClear</th>\n",
       "      <th>CloudsScattered</th>\n",
       "      <th>CloudsOvercast</th>\n",
       "      <th>CloudsFew</th>\n",
       "      <th>RelativeHumidity</th>\n",
       "    </tr>\n",
       "    <tr>\n",
       "      <th>Date</th>\n",
       "      <th></th>\n",
       "      <th></th>\n",
       "      <th></th>\n",
       "      <th></th>\n",
       "      <th></th>\n",
       "      <th></th>\n",
       "      <th></th>\n",
       "      <th></th>\n",
       "      <th></th>\n",
       "      <th></th>\n",
       "      <th></th>\n",
       "      <th></th>\n",
       "      <th></th>\n",
       "      <th></th>\n",
       "      <th></th>\n",
       "    </tr>\n",
       "  </thead>\n",
       "  <tbody>\n",
       "    <tr>\n",
       "      <th>2021-01-01 00:00:00</th>\n",
       "      <td>559.485333</td>\n",
       "      <td>880.514667</td>\n",
       "      <td>0.0</td>\n",
       "      <td>2.8</td>\n",
       "      <td>-2.9</td>\n",
       "      <td>-8.9</td>\n",
       "      <td>-1.1</td>\n",
       "      <td>-5.9</td>\n",
       "      <td>-12.0</td>\n",
       "      <td>166</td>\n",
       "      <td>128</td>\n",
       "      <td>55</td>\n",
       "      <td>560</td>\n",
       "      <td>91</td>\n",
       "      <td>79.798762</td>\n",
       "    </tr>\n",
       "    <tr>\n",
       "      <th>2021-01-01 01:00:00</th>\n",
       "      <td>559.485333</td>\n",
       "      <td>880.514667</td>\n",
       "      <td>0.0</td>\n",
       "      <td>3.3</td>\n",
       "      <td>-3.2</td>\n",
       "      <td>-10.0</td>\n",
       "      <td>-0.6</td>\n",
       "      <td>-6.1</td>\n",
       "      <td>-12.2</td>\n",
       "      <td>124</td>\n",
       "      <td>140</td>\n",
       "      <td>69</td>\n",
       "      <td>584</td>\n",
       "      <td>85</td>\n",
       "      <td>80.364525</td>\n",
       "    </tr>\n",
       "    <tr>\n",
       "      <th>2021-01-01 02:00:00</th>\n",
       "      <td>559.485333</td>\n",
       "      <td>880.514667</td>\n",
       "      <td>0.0</td>\n",
       "      <td>3.3</td>\n",
       "      <td>-3.2</td>\n",
       "      <td>-9.4</td>\n",
       "      <td>-0.6</td>\n",
       "      <td>-6.2</td>\n",
       "      <td>-12.2</td>\n",
       "      <td>119</td>\n",
       "      <td>153</td>\n",
       "      <td>76</td>\n",
       "      <td>577</td>\n",
       "      <td>76</td>\n",
       "      <td>79.753412</td>\n",
       "    </tr>\n",
       "    <tr>\n",
       "      <th>2021-01-01 03:00:00</th>\n",
       "      <td>559.485333</td>\n",
       "      <td>880.514667</td>\n",
       "      <td>0.0</td>\n",
       "      <td>3.3</td>\n",
       "      <td>-3.3</td>\n",
       "      <td>-10.0</td>\n",
       "      <td>-0.6</td>\n",
       "      <td>-6.2</td>\n",
       "      <td>-12.8</td>\n",
       "      <td>118</td>\n",
       "      <td>143</td>\n",
       "      <td>65</td>\n",
       "      <td>581</td>\n",
       "      <td>94</td>\n",
       "      <td>80.349778</td>\n",
       "    </tr>\n",
       "    <tr>\n",
       "      <th>2021-01-01 04:00:00</th>\n",
       "      <td>559.485333</td>\n",
       "      <td>880.514667</td>\n",
       "      <td>0.0</td>\n",
       "      <td>2.8</td>\n",
       "      <td>-3.4</td>\n",
       "      <td>-10.0</td>\n",
       "      <td>-0.6</td>\n",
       "      <td>-6.3</td>\n",
       "      <td>-12.8</td>\n",
       "      <td>135</td>\n",
       "      <td>140</td>\n",
       "      <td>53</td>\n",
       "      <td>585</td>\n",
       "      <td>87</td>\n",
       "      <td>80.335015</td>\n",
       "    </tr>\n",
       "    <tr>\n",
       "      <th>...</th>\n",
       "      <td>...</td>\n",
       "      <td>...</td>\n",
       "      <td>...</td>\n",
       "      <td>...</td>\n",
       "      <td>...</td>\n",
       "      <td>...</td>\n",
       "      <td>...</td>\n",
       "      <td>...</td>\n",
       "      <td>...</td>\n",
       "      <td>...</td>\n",
       "      <td>...</td>\n",
       "      <td>...</td>\n",
       "      <td>...</td>\n",
       "      <td>...</td>\n",
       "      <td>...</td>\n",
       "    </tr>\n",
       "    <tr>\n",
       "      <th>2021-12-31 19:00:00</th>\n",
       "      <td>558.588664</td>\n",
       "      <td>881.411336</td>\n",
       "      <td>0.0</td>\n",
       "      <td>3.3</td>\n",
       "      <td>-2.1</td>\n",
       "      <td>-8.1</td>\n",
       "      <td>-0.6</td>\n",
       "      <td>-5.5</td>\n",
       "      <td>-11.7</td>\n",
       "      <td>155</td>\n",
       "      <td>105</td>\n",
       "      <td>89</td>\n",
       "      <td>567</td>\n",
       "      <td>84</td>\n",
       "      <td>77.532570</td>\n",
       "    </tr>\n",
       "    <tr>\n",
       "      <th>2021-12-31 20:00:00</th>\n",
       "      <td>558.588664</td>\n",
       "      <td>881.411336</td>\n",
       "      <td>0.0</td>\n",
       "      <td>3.3</td>\n",
       "      <td>-2.3</td>\n",
       "      <td>-8.9</td>\n",
       "      <td>-0.6</td>\n",
       "      <td>-5.6</td>\n",
       "      <td>-11.7</td>\n",
       "      <td>181</td>\n",
       "      <td>122</td>\n",
       "      <td>63</td>\n",
       "      <td>561</td>\n",
       "      <td>72</td>\n",
       "      <td>78.090880</td>\n",
       "    </tr>\n",
       "    <tr>\n",
       "      <th>2021-12-31 21:00:00</th>\n",
       "      <td>558.588664</td>\n",
       "      <td>881.411336</td>\n",
       "      <td>0.0</td>\n",
       "      <td>3.3</td>\n",
       "      <td>-2.4</td>\n",
       "      <td>-8.3</td>\n",
       "      <td>-0.6</td>\n",
       "      <td>-5.7</td>\n",
       "      <td>-11.7</td>\n",
       "      <td>157</td>\n",
       "      <td>134</td>\n",
       "      <td>77</td>\n",
       "      <td>552</td>\n",
       "      <td>80</td>\n",
       "      <td>78.074717</td>\n",
       "    </tr>\n",
       "    <tr>\n",
       "      <th>2021-12-31 22:00:00</th>\n",
       "      <td>558.588664</td>\n",
       "      <td>881.411336</td>\n",
       "      <td>0.0</td>\n",
       "      <td>3.3</td>\n",
       "      <td>-2.6</td>\n",
       "      <td>-8.9</td>\n",
       "      <td>-0.6</td>\n",
       "      <td>-5.8</td>\n",
       "      <td>-11.7</td>\n",
       "      <td>139</td>\n",
       "      <td>144</td>\n",
       "      <td>73</td>\n",
       "      <td>574</td>\n",
       "      <td>71</td>\n",
       "      <td>78.638823</td>\n",
       "    </tr>\n",
       "    <tr>\n",
       "      <th>2021-12-31 23:00:00</th>\n",
       "      <td>558.588664</td>\n",
       "      <td>881.411336</td>\n",
       "      <td>0.0</td>\n",
       "      <td>3.3</td>\n",
       "      <td>-2.8</td>\n",
       "      <td>-8.9</td>\n",
       "      <td>-0.6</td>\n",
       "      <td>-5.9</td>\n",
       "      <td>-12.2</td>\n",
       "      <td>111</td>\n",
       "      <td>136</td>\n",
       "      <td>78</td>\n",
       "      <td>597</td>\n",
       "      <td>78</td>\n",
       "      <td>79.208449</td>\n",
       "    </tr>\n",
       "  </tbody>\n",
       "</table>\n",
       "<p>8760 rows × 15 columns</p>\n",
       "</div>"
      ],
      "text/plain": [
       "                     Light(minutes)  Dark(minutes)  \\\n",
       "Date                                                 \n",
       "2021-01-01 00:00:00      559.485333     880.514667   \n",
       "2021-01-01 01:00:00      559.485333     880.514667   \n",
       "2021-01-01 02:00:00      559.485333     880.514667   \n",
       "2021-01-01 03:00:00      559.485333     880.514667   \n",
       "2021-01-01 04:00:00      559.485333     880.514667   \n",
       "...                             ...            ...   \n",
       "2021-12-31 19:00:00      558.588664     881.411336   \n",
       "2021-12-31 20:00:00      558.588664     881.411336   \n",
       "2021-12-31 21:00:00      558.588664     881.411336   \n",
       "2021-12-31 22:00:00      558.588664     881.411336   \n",
       "2021-12-31 23:00:00      558.588664     881.411336   \n",
       "\n",
       "                     Estimated_PPF(umol/m^2*s^1)  Temperature(90th)  \\\n",
       "Date                                                                  \n",
       "2021-01-01 00:00:00                          0.0                2.8   \n",
       "2021-01-01 01:00:00                          0.0                3.3   \n",
       "2021-01-01 02:00:00                          0.0                3.3   \n",
       "2021-01-01 03:00:00                          0.0                3.3   \n",
       "2021-01-01 04:00:00                          0.0                2.8   \n",
       "...                                          ...                ...   \n",
       "2021-12-31 19:00:00                          0.0                3.3   \n",
       "2021-12-31 20:00:00                          0.0                3.3   \n",
       "2021-12-31 21:00:00                          0.0                3.3   \n",
       "2021-12-31 22:00:00                          0.0                3.3   \n",
       "2021-12-31 23:00:00                          0.0                3.3   \n",
       "\n",
       "                     Temperature(mean)  Temperature(10th)  DewPoint(90th)  \\\n",
       "Date                                                                        \n",
       "2021-01-01 00:00:00               -2.9               -8.9            -1.1   \n",
       "2021-01-01 01:00:00               -3.2              -10.0            -0.6   \n",
       "2021-01-01 02:00:00               -3.2               -9.4            -0.6   \n",
       "2021-01-01 03:00:00               -3.3              -10.0            -0.6   \n",
       "2021-01-01 04:00:00               -3.4              -10.0            -0.6   \n",
       "...                                ...                ...             ...   \n",
       "2021-12-31 19:00:00               -2.1               -8.1            -0.6   \n",
       "2021-12-31 20:00:00               -2.3               -8.9            -0.6   \n",
       "2021-12-31 21:00:00               -2.4               -8.3            -0.6   \n",
       "2021-12-31 22:00:00               -2.6               -8.9            -0.6   \n",
       "2021-12-31 23:00:00               -2.8               -8.9            -0.6   \n",
       "\n",
       "                     DewPoint(mean)  DewPoint(10th)  CloudsBroken  \\\n",
       "Date                                                                \n",
       "2021-01-01 00:00:00            -5.9           -12.0           166   \n",
       "2021-01-01 01:00:00            -6.1           -12.2           124   \n",
       "2021-01-01 02:00:00            -6.2           -12.2           119   \n",
       "2021-01-01 03:00:00            -6.2           -12.8           118   \n",
       "2021-01-01 04:00:00            -6.3           -12.8           135   \n",
       "...                             ...             ...           ...   \n",
       "2021-12-31 19:00:00            -5.5           -11.7           155   \n",
       "2021-12-31 20:00:00            -5.6           -11.7           181   \n",
       "2021-12-31 21:00:00            -5.7           -11.7           157   \n",
       "2021-12-31 22:00:00            -5.8           -11.7           139   \n",
       "2021-12-31 23:00:00            -5.9           -12.2           111   \n",
       "\n",
       "                     CloudsClear  CloudsScattered  CloudsOvercast  CloudsFew  \\\n",
       "Date                                                                           \n",
       "2021-01-01 00:00:00          128               55             560         91   \n",
       "2021-01-01 01:00:00          140               69             584         85   \n",
       "2021-01-01 02:00:00          153               76             577         76   \n",
       "2021-01-01 03:00:00          143               65             581         94   \n",
       "2021-01-01 04:00:00          140               53             585         87   \n",
       "...                          ...              ...             ...        ...   \n",
       "2021-12-31 19:00:00          105               89             567         84   \n",
       "2021-12-31 20:00:00          122               63             561         72   \n",
       "2021-12-31 21:00:00          134               77             552         80   \n",
       "2021-12-31 22:00:00          144               73             574         71   \n",
       "2021-12-31 23:00:00          136               78             597         78   \n",
       "\n",
       "                     RelativeHumidity  \n",
       "Date                                   \n",
       "2021-01-01 00:00:00         79.798762  \n",
       "2021-01-01 01:00:00         80.364525  \n",
       "2021-01-01 02:00:00         79.753412  \n",
       "2021-01-01 03:00:00         80.349778  \n",
       "2021-01-01 04:00:00         80.335015  \n",
       "...                               ...  \n",
       "2021-12-31 19:00:00         77.532570  \n",
       "2021-12-31 20:00:00         78.090880  \n",
       "2021-12-31 21:00:00         78.074717  \n",
       "2021-12-31 22:00:00         78.638823  \n",
       "2021-12-31 23:00:00         79.208449  \n",
       "\n",
       "[8760 rows x 15 columns]"
      ]
     },
     "execution_count": 22,
     "metadata": {},
     "output_type": "execute_result"
    }
   ],
   "source": [
    "weather_model"
   ]
  },
  {
   "cell_type": "code",
   "execution_count": null,
   "metadata": {},
   "outputs": [],
   "source": []
  }
 ],
 "metadata": {
  "kernelspec": {
   "display_name": "Python 3",
   "language": "python",
   "name": "python3"
  },
  "language_info": {
   "codemirror_mode": {
    "name": "ipython",
    "version": 3
   },
   "file_extension": ".py",
   "mimetype": "text/x-python",
   "name": "python",
   "nbconvert_exporter": "python",
   "pygments_lexer": "ipython3",
   "version": "3.8.5"
  }
 },
 "nbformat": 4,
 "nbformat_minor": 4
}
